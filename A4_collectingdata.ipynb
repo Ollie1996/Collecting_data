{
 "cells": [
  {
   "cell_type": "code",
   "execution_count": 1,
   "id": "e96b2c8b-f545-408c-8a67-4e016707d82a",
   "metadata": {},
   "outputs": [
    {
     "name": "stdout",
     "output_type": "stream",
     "text": [
      "Collecting psaw\n",
      "  Downloading psaw-0.1.0-py3-none-any.whl (15 kB)\n",
      "Requirement already satisfied: Click in c:\\users\\oli4v\\anaconda3\\lib\\site-packages (from psaw) (7.1.2)\n",
      "Requirement already satisfied: requests in c:\\users\\oli4v\\anaconda3\\lib\\site-packages (from psaw) (2.25.1)\n",
      "Requirement already satisfied: idna<3,>=2.5 in c:\\users\\oli4v\\anaconda3\\lib\\site-packages (from requests->psaw) (2.10)\n",
      "Requirement already satisfied: urllib3<1.27,>=1.21.1 in c:\\users\\oli4v\\anaconda3\\lib\\site-packages (from requests->psaw) (1.26.4)\n",
      "Requirement already satisfied: chardet<5,>=3.0.2 in c:\\users\\oli4v\\anaconda3\\lib\\site-packages (from requests->psaw) (4.0.0)\n",
      "Requirement already satisfied: certifi>=2017.4.17 in c:\\users\\oli4v\\anaconda3\\lib\\site-packages (from requests->psaw) (2020.12.5)\n",
      "Installing collected packages: psaw\n",
      "Successfully installed psaw-0.1.0\n"
     ]
    }
   ],
   "source": [
    "!pip install psaw\n"
   ]
  },
  {
   "cell_type": "code",
   "execution_count": 28,
   "id": "1b4ade0b-c381-403c-9f2c-377bb6500ee6",
   "metadata": {},
   "outputs": [],
   "source": [
    "import pandas as pd\n",
    "import seaborn as sns\n",
    "pd.set_option('max_colwidth', 500)\n",
    "pd.set_option('max_columns', 50)"
   ]
  },
  {
   "cell_type": "code",
   "execution_count": 4,
   "id": "7e6dfa86-3935-4496-9333-d8137bbf4719",
   "metadata": {},
   "outputs": [],
   "source": [
    "from psaw import PushshiftAPI\n",
    "\n",
    "api = PushshiftAPI()"
   ]
  },
  {
   "cell_type": "code",
   "execution_count": 6,
   "id": "a650b213-095a-4842-b725-bea2494af3b7",
   "metadata": {},
   "outputs": [
    {
     "name": "stderr",
     "output_type": "stream",
     "text": [
      "C:\\Users\\oli4v\\anaconda3\\lib\\site-packages\\psaw\\PushshiftAPI.py:252: UserWarning: Not all PushShift shards are active. Query results may be incomplete\n",
      "  warnings.warn(shards_down_message)\n"
     ]
    }
   ],
   "source": [
    "api_request_generator = api.search_submissions(subreddit= 'GradSchool', score = '>100')\n",
    "\n",
    "df = pd.DataFrame([submission.d_ for submission in api_request_generator])"
   ]
  },
  {
   "cell_type": "code",
   "execution_count": 7,
   "id": "9f06d99d-6884-416a-898f-810dbd8405e6",
   "metadata": {},
   "outputs": [
    {
     "data": {
      "text/plain": [
       "(1112, 95)"
      ]
     },
     "execution_count": 7,
     "metadata": {},
     "output_type": "execute_result"
    }
   ],
   "source": [
    "df.shape"
   ]
  },
  {
   "cell_type": "code",
   "execution_count": 9,
   "id": "e9abbd93-6abf-40e8-9ae3-b17e3e8609c9",
   "metadata": {},
   "outputs": [
    {
     "data": {
      "text/html": [
       "<div>\n",
       "<style scoped>\n",
       "    .dataframe tbody tr th:only-of-type {\n",
       "        vertical-align: middle;\n",
       "    }\n",
       "\n",
       "    .dataframe tbody tr th {\n",
       "        vertical-align: top;\n",
       "    }\n",
       "\n",
       "    .dataframe thead th {\n",
       "        text-align: right;\n",
       "    }\n",
       "</style>\n",
       "<table border=\"1\" class=\"dataframe\">\n",
       "  <thead>\n",
       "    <tr style=\"text-align: right;\">\n",
       "      <th></th>\n",
       "      <th>title</th>\n",
       "      <th>score</th>\n",
       "    </tr>\n",
       "  </thead>\n",
       "  <tbody>\n",
       "    <tr>\n",
       "      <th>967</th>\n",
       "      <td>[Update] My PI passed away suddenly yesterday evening. No idea what happens now.</td>\n",
       "      <td>173</td>\n",
       "    </tr>\n",
       "    <tr>\n",
       "      <th>794</th>\n",
       "      <td>How I feel while waiting for feedback on my dissertation</td>\n",
       "      <td>257</td>\n",
       "    </tr>\n",
       "    <tr>\n",
       "      <th>394</th>\n",
       "      <td>Is it normal to not hate your advisor?</td>\n",
       "      <td>230</td>\n",
       "    </tr>\n",
       "    <tr>\n",
       "      <th>411</th>\n",
       "      <td>I'm a week into my PhD and I want to leave</td>\n",
       "      <td>151</td>\n",
       "    </tr>\n",
       "    <tr>\n",
       "      <th>994</th>\n",
       "      <td>Welcome to grad school, where we'll tell you not to worry about your grades.......</td>\n",
       "      <td>102</td>\n",
       "    </tr>\n",
       "    <tr>\n",
       "      <th>524</th>\n",
       "      <td>My friend's wife found a spoof of \"Goodnight Moon\" entitled \"Goodnight Lab.\" This page is particularly accurate.</td>\n",
       "      <td>388</td>\n",
       "    </tr>\n",
       "    <tr>\n",
       "      <th>192</th>\n",
       "      <td>P.h.Done! (original, I know)</td>\n",
       "      <td>254</td>\n",
       "    </tr>\n",
       "    <tr>\n",
       "      <th>773</th>\n",
       "      <td>Trying to work today but James Comey's testimony is so much more interesting!</td>\n",
       "      <td>147</td>\n",
       "    </tr>\n",
       "    <tr>\n",
       "      <th>896</th>\n",
       "      <td>PSA: Conferences are not holidays</td>\n",
       "      <td>120</td>\n",
       "    </tr>\n",
       "    <tr>\n",
       "      <th>170</th>\n",
       "      <td>How’s your Teaching Fellowship going?</td>\n",
       "      <td>126</td>\n",
       "    </tr>\n",
       "  </tbody>\n",
       "</table>\n",
       "</div>"
      ],
      "text/plain": [
       "                                                                                                                title  \\\n",
       "967                                  [Update] My PI passed away suddenly yesterday evening. No idea what happens now.   \n",
       "794                                                          How I feel while waiting for feedback on my dissertation   \n",
       "394                                                                            Is it normal to not hate your advisor?   \n",
       "411                                                                        I'm a week into my PhD and I want to leave   \n",
       "994                                Welcome to grad school, where we'll tell you not to worry about your grades.......   \n",
       "524  My friend's wife found a spoof of \"Goodnight Moon\" entitled \"Goodnight Lab.\" This page is particularly accurate.   \n",
       "192                                                                                      P.h.Done! (original, I know)   \n",
       "773                                     Trying to work today but James Comey's testimony is so much more interesting!   \n",
       "896                                                                                 PSA: Conferences are not holidays   \n",
       "170                                                                             How’s your Teaching Fellowship going?   \n",
       "\n",
       "     score  \n",
       "967    173  \n",
       "794    257  \n",
       "394    230  \n",
       "411    151  \n",
       "994    102  \n",
       "524    388  \n",
       "192    254  \n",
       "773    147  \n",
       "896    120  \n",
       "170    126  "
      ]
     },
     "execution_count": 9,
     "metadata": {},
     "output_type": "execute_result"
    }
   ],
   "source": [
    "df[['title', 'score']].sample(10)"
   ]
  },
  {
   "cell_type": "code",
   "execution_count": 11,
   "id": "d028149f-2143-4bb9-a2db-4afb5454ef7e",
   "metadata": {},
   "outputs": [],
   "source": [
    "df['date'] = pd.to_datetime(df['created_utc'], utc=True, unit = 's')"
   ]
  },
  {
   "cell_type": "code",
   "execution_count": 23,
   "id": "508d6402-4c29-4c90-9257-c609639c9cab",
   "metadata": {},
   "outputs": [
    {
     "data": {
      "text/plain": [
       "Index(['all_awardings', 'allow_live_comments', 'author',\n",
       "       'author_flair_css_class', 'author_flair_richtext', 'author_flair_text',\n",
       "       'author_flair_type', 'author_fullname', 'author_is_blocked',\n",
       "       'author_patreon_flair', 'author_premium', 'awarders', 'can_mod_post',\n",
       "       'contest_mode', 'created_utc', 'domain', 'full_link', 'gildings', 'id',\n",
       "       'is_created_from_ads_ui', 'is_crosspostable', 'is_meta',\n",
       "       'is_original_content', 'is_reddit_media_domain', 'is_robot_indexable',\n",
       "       'is_self', 'is_video', 'link_flair_background_color',\n",
       "       'link_flair_richtext', 'link_flair_text_color', 'link_flair_type',\n",
       "       'locked', 'media_only', 'no_follow', 'num_comments', 'num_crossposts',\n",
       "       'over_18', 'parent_whitelist_status', 'permalink', 'pinned', 'pwls',\n",
       "       'removed_by_category', 'retrieved_on', 'score', 'selftext',\n",
       "       'send_replies', 'spoiler', 'stickied', 'subreddit', 'subreddit_id',\n",
       "       'subreddit_subscribers', 'subreddit_type', 'thumbnail', 'title',\n",
       "       'total_awards_received', 'treatment_tags', 'upvote_ratio', 'url',\n",
       "       'whitelist_status', 'wls', 'created', 'edited', 'link_flair_css_class',\n",
       "       'link_flair_template_id', 'link_flair_text', 'author_flair_template_id',\n",
       "       'author_flair_text_color', 'author_flair_background_color', 'post_hint',\n",
       "       'preview', 'thumbnail_height', 'thumbnail_width',\n",
       "       'url_overridden_by_dest', 'media', 'media_embed', 'secure_media',\n",
       "       'secure_media_embed', 'steward_reports', 'updated_utc',\n",
       "       'og_description', 'og_title', 'crosspost_parent',\n",
       "       'crosspost_parent_list', 'gilded', 'rte_mode', 'author_id',\n",
       "       'brand_safe', 'author_cakeday', 'suggested_sort', 'approved_at_utc',\n",
       "       'banned_at_utc', 'view_count', 'author_created_utc', 'mod_reports',\n",
       "       'user_reports', 'date'],\n",
       "      dtype='object')"
      ]
     },
     "execution_count": 23,
     "metadata": {},
     "output_type": "execute_result"
    }
   ],
   "source": [
    "df.columns"
   ]
  },
  {
   "cell_type": "code",
   "execution_count": 30,
   "id": "a8c4a44f-fd06-4975-b6c4-6f66402adf66",
   "metadata": {},
   "outputs": [
    {
     "data": {
      "text/plain": [
       "<seaborn.axisgrid.FacetGrid at 0x28d77c61e20>"
      ]
     },
     "execution_count": 30,
     "metadata": {},
     "output_type": "execute_result"
    },
    {
     "data": {
      "image/png": "[encoded data removed]",
      "text/plain": [
       "<Figure size 360x360 with 1 Axes>"
      ]
     },
     "metadata": {
      "needs_background": "light"
     },
     "output_type": "display_data"
    }
   ],
   "source": [
    "sns.relplot(x='upvote_ratio', y='score', data=df)"
   ]
  },
  {
   "cell_type": "markdown",
   "id": "6e5917ba-58de-4d74-b1db-0c78a11de506",
   "metadata": {},
   "source": [
    "The upvote ratio on reddit is an indicator of how controversial a post is. The higher the ratio, the less controversial it is. In this visualisation, we can see that, for posts with at least 100 score, the upvote ratio is very high (almost exlusively above 0.95), indicating that the overwhelming majority of these posts are not controversial. "
   ]
  },
  {
   "cell_type": "code",
   "execution_count": 31,
   "id": "2a4f4f66-dd2e-47c1-987a-d3df9acd29dc",
   "metadata": {},
   "outputs": [
    {
     "data": {
      "text/plain": [
       "<seaborn.axisgrid.FacetGrid at 0x28d77a40e80>"
      ]
     },
     "execution_count": 31,
     "metadata": {},
     "output_type": "execute_result"
    },
    {
     "data": {
      "image/png": "[encoded data removed]",
      "text/plain": [
       "<Figure size 360x360 with 1 Axes>"
      ]
     },
     "metadata": {
      "needs_background": "light"
     },
     "output_type": "display_data"
    }
   ],
   "source": [
    "sns.relplot(x='date', y='score', data=df)"
   ]
  },
  {
   "cell_type": "markdown",
   "id": "33cbb1e9-cb53-4d61-9f9b-aaff5224d2a1",
   "metadata": {},
   "source": [
    "This visualisation shows that there was a spike in highly scored posts toward the end of 2018. Moreover, there are no data right at the turn to 2019. and early 2020. This could mean that no post reached over 100 score in that period but I find that unlikely considering there have been >100 score posts in every other period. Perhaps the subreddit turned private during these periods. A different explanation is that this data scraping tool did not manage to collect data from these periods, for some reason."
   ]
  }
 ],
 "metadata": {
  "kernelspec": {
   "display_name": "Python 3",
   "language": "python",
   "name": "python3"
  },
  "language_info": {
   "codemirror_mode": {
    "name": "ipython",
    "version": 3
   },
   "file_extension": ".py",
   "mimetype": "text/x-python",
   "name": "python",
   "nbconvert_exporter": "python",
   "pygments_lexer": "ipython3",
   "version": "3.8.8"
  }
 },
 "nbformat": 4,
 "nbformat_minor": 5
}
